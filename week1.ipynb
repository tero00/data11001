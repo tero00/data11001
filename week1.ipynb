{
  "metadata": {
    "kernelspec": {
      "name": "xpython",
      "display_name": "Python 3.13 (XPython)",
      "language": "python"
    },
    "language_info": {
      "file_extension": ".py",
      "mimetype": "text/x-python",
      "name": "python",
      "version": "3.13.1"
    }
  },
  "nbformat_minor": 4,
  "nbformat": 4,
  "cells": [
    {
      "cell_type": "markdown",
      "source": "# Introduction to Data Science 2025\n\n# Week 1",
      "metadata": {}
    },
    {
      "cell_type": "markdown",
      "source": "## Exercise 1 | Matrix warm-up\n<span style=\"background-color: #ccfff2\"> *Note: You can find tutorials for NumPy and Pandas under 'Useful tutorials' in the course material.*</span>",
      "metadata": {}
    },
    {
      "cell_type": "markdown",
      "source": "One of the most useful properties of any scientific programming language (Python with NumPy, R, Julia, etc) is that they allow us to work with matrices efficiently. Let's learn more about these features!\n\n### 1.1 Basics\n\n1. Let's start by creating two arrays <span style=\"background-color: #ccfff2\"> A</span> and <span style=\"background-color: #ccfff2\"> B</span> which each have the integers <span style=\"background-color: #ccfff2\"> 0, 1, 2, ..., 1e7-1</span>. Use the normal arrays or lists of the programming language you are using, e.g. *list* or *[ ]* or *numpy.array()* in Python.",
      "metadata": {}
    },
    {
      "cell_type": "code",
      "source": "A = list(range(0,10**7))\nB = list(range(0,10**7))",
      "metadata": {},
      "outputs": [],
      "execution_count": 22
    },
    {
      "cell_type": "markdown",
      "source": "2. Create a function that uses a <span style=\"background-color: #ccfff2\"> for loop</span> or equivalent to return a new array <span style=\"background-color: #ccfff2\"> C</span>, which contains the <span style=\"background-color: #ccfff2\"> element-wise sum of *A* and *B*</span>, e.g. C should contain the integers <span style=\"background-color: #ccfff2\"> 0, 2, 4, etc</span>.",
      "metadata": {}
    },
    {
      "cell_type": "code",
      "source": "def add_with_for(A,B):\n    C = []\n    for i in range(len(A)):\n        C.append(A[i] + B[i])\n    return C",
      "metadata": {},
      "outputs": [],
      "execution_count": 23
    },
    {
      "cell_type": "markdown",
      "source": "3. Next, let's create another function that uses NumPy (or equivalent) to do the same. To try it out, allocate two arrays (e.g. using <span style=\"background-color: #ccfff2\"> np.array</span> in NumPy) and add the arrays together using your function. Don't use loops, instead, find out how to add the two arrays directly. What do you notice in comparison to the previous function?",
      "metadata": {}
    },
    {
      "cell_type": "code",
      "source": "import numpy as np\nA = np.arange(10**7)\nB = np.arange(10**7)\ndef add_with_for(A,B):\n    return A+B\n# The code is simpler, though you have to import library functions, which in a way means the code is more complicated",
      "metadata": {},
      "outputs": [],
      "execution_count": 24
    },
    {
      "cell_type": "markdown",
      "source": "### 1.2 Array manipulation",
      "metadata": {}
    },
    {
      "cell_type": "markdown",
      "source": "<span style=\"background-color: #ccfff2\"> *Note: for the following exercises, only use NumPy or equivalent functions. Don't use any loops.* </span>\n1. Create the following array:\n\n*[hint: <span style=\"background-color: #ccfff2\"> np.reshape</span>]*",
      "metadata": {}
    },
    {
      "cell_type": "code",
      "source": "# array([[ 0,  1,  2,  3,  4,  5,  6,  7,  8,  9],\n#        [10, 11, 12, 13, 14, 15, 16, 17, 18, 19],\n#        [20, 21, 22, 23, 24, 25, 26, 27, 28, 29],\n#        [30, 31, 32, 33, 34, 35, 36, 37, 38, 39],\n#        [40, 41, 42, 43, 44, 45, 46, 47, 48, 49],\n#        [50, 51, 52, 53, 54, 55, 56, 57, 58, 59],\n#        [60, 61, 62, 63, 64, 65, 66, 67, 68, 69],\n#        [70, 71, 72, 73, 74, 75, 76, 77, 78, 79],\n#        [80, 81, 82, 83, 84, 85, 86, 87, 88, 89],\n#        [90, 91, 92, 93, 94, 95, 96, 97, 98, 99]])",
      "metadata": {},
      "outputs": [],
      "execution_count": 25
    },
    {
      "cell_type": "code",
      "source": "a = np.array([list(range(100))]).reshape(10,10)",
      "metadata": {},
      "outputs": [],
      "execution_count": 26
    },
    {
      "cell_type": "markdown",
      "source": "2. Create the following array:",
      "metadata": {}
    },
    {
      "cell_type": "code",
      "source": "# array([[0., 1., 0., 1., 0., 1., 0., 1., 0., 1.],\n#        [0., 1., 0., 1., 0., 1., 0., 1., 0., 1.],\n#        [0., 1., 0., 1., 0., 1., 0., 1., 0., 1.],\n#        [0., 1., 0., 1., 0., 1., 0., 1., 0., 1.],\n#        [0., 1., 0., 1., 0., 1., 0., 1., 0., 1.],\n#        [0., 1., 0., 1., 0., 1., 0., 1., 0., 1.],\n#        [0., 1., 0., 1., 0., 1., 0., 1., 0., 1.],\n#        [0., 1., 0., 1., 0., 1., 0., 1., 0., 1.],\n#        [0., 1., 0., 1., 0., 1., 0., 1., 0., 1.],\n#        [0., 1., 0., 1., 0., 1., 0., 1., 0., 1.]])",
      "metadata": {},
      "outputs": [],
      "execution_count": 27
    },
    {
      "cell_type": "code",
      "source": "b = np.array([list(range(100))]).reshape(10,10) % 2",
      "metadata": {},
      "outputs": [],
      "execution_count": 28
    },
    {
      "cell_type": "markdown",
      "source": "3. Create the following array (D):",
      "metadata": {}
    },
    {
      "cell_type": "code",
      "source": "# array([[0., 1., 1., 1., 1., 1., 1., 1., 1., 1.],\n#        [1., 0., 1., 1., 1., 1., 1., 1., 1., 1.],\n#        [1., 1., 0., 1., 1., 1., 1., 1., 1., 1.],\n#        [1., 1., 1., 0., 1., 1., 1., 1., 1., 1.],\n#        [1., 1., 1., 1., 0., 1., 1., 1., 1., 1.],\n#        [1., 1., 1., 1., 1., 0., 1., 1., 1., 1.],\n#        [1., 1., 1., 1., 1., 1., 0., 1., 1., 1.],\n#        [1., 1., 1., 1., 1., 1., 1., 0., 1., 1.],\n#        [1., 1., 1., 1., 1., 1., 1., 1., 0., 1.],\n#        [1., 1., 1., 1., 1., 1., 1., 1., 1., 0.]])",
      "metadata": {},
      "outputs": [],
      "execution_count": 29
    },
    {
      "cell_type": "code",
      "source": "D = (np.eye(10)+1)%2",
      "metadata": {},
      "outputs": [],
      "execution_count": 30
    },
    {
      "cell_type": "markdown",
      "source": "4. Create the following array (E):",
      "metadata": {}
    },
    {
      "cell_type": "code",
      "source": "# array([[1., 1., 1., 1., 1., 1., 1., 1., 1., 0.],\n#        [1., 1., 1., 1., 1., 1., 1., 1., 0., 1.],\n#        [1., 1., 1., 1., 1., 1., 1., 0., 1., 1.],\n#        [1., 1., 1., 1., 1., 1., 0., 1., 1., 1.],\n#        [1., 1., 1., 1., 1., 0., 1., 1., 1., 1.],\n#        [1., 1., 1., 1., 0., 1., 1., 1., 1., 1.],\n#        [1., 1., 1., 0., 1., 1., 1., 1., 1., 1.],\n#        [1., 1., 0., 1., 1., 1., 1., 1., 1., 1.],\n#        [1., 0., 1., 1., 1., 1., 1., 1., 1., 1.],\n#        [0., 1., 1., 1., 1., 1., 1., 1., 1., 1.]])",
      "metadata": {},
      "outputs": [],
      "execution_count": 31
    },
    {
      "cell_type": "code",
      "source": "E = (np.eye(10)+1)%2\nE = np.rot90(E)",
      "metadata": {},
      "outputs": [],
      "execution_count": 32
    },
    {
      "cell_type": "markdown",
      "source": "5. Call the last two matrices <span style=\"background-color: #ccfff2\">D</span> and <span style=\"background-color: #ccfff2\">E</span>, respectively. Show that the determinant of their product (matrix multiplication) is the same as the product of their determinants. That is calculate both <span style=\"background-color: #ccfff2\">det(DE)</span> and <span style=\"background-color: #ccfff2\">det(D) * det(E)</span>, and show that they are the same. Is it a coincidence? (I think not) The product of the determinants (or the determinant of the product) should be -81.",
      "metadata": {}
    },
    {
      "cell_type": "code",
      "source": "def det(x):\n    return np.linalg.det(x)\n\nprint(det(D@E))\nprint(det(D)*det(E))",
      "metadata": {},
      "outputs": [],
      "execution_count": 33
    },
    {
      "cell_type": "markdown",
      "source": "-80.99999999999996\n-81.0\n\nA slight floating point precision error, but they are essentially equivalent",
      "metadata": {}
    },
    {
      "cell_type": "markdown",
      "source": "### 1.3 Slicing\n\nArray slicing is a powerful way to extract data from an array. Let's practice array slicing with the following exercises!\n\n1. Load the [California housing dataset](https://scikit-learn.org/stable/modules/generated/sklearn.datasets.fetch_california_housing.html). The data should be a matrix of shape <span style=\"background-color: #ccfff2\">(20640, 8)</span>, that is 20640 rows and 8 columns. Use the <span style=\"background-color: #ccfff2\">.shape</span> attribute of NumPy arrays to verify this. Here's a [description of the fields](https://scikit-learn.org/stable/datasets/real_world.html#california-housing-dataset).",
      "metadata": {}
    },
    {
      "cell_type": "code",
      "source": "from sklearn.datasets import fetch_california_housing\n\nh = fetch_california_housing()\nprint(h.data.shape)",
      "metadata": {},
      "outputs": [],
      "execution_count": 34
    },
    {
      "cell_type": "markdown",
      "source": "2. Select rows where the average number of bedrooms <span style=\"background-color: #ccfff2\">(AveBedrms)</span> is higher than 2. The first few row indices should be <span style=\"background-color: #ccfff2\">710,  1023,  1024, ...</span> (zero-indexed). Count these houses - how many rows are selected? *[hint: <span style=\"background-color: #ccfff2\">np.where</span>]*",
      "metadata": {}
    },
    {
      "cell_type": "code",
      "source": "housing = h.data\nbedroom_rows = np.where(housing[:,3] > 2)[0]\nprint(bedroom_rows)\n# 235 rows were selected",
      "metadata": {},
      "outputs": [],
      "execution_count": 35
    },
    {
      "cell_type": "markdown",
      "source": "3. Select the rows where the median house age (i.e. median in each block group) <span style=\"background-color: #ccfff2\">(HouseAge)</span> is between 1 and 3 years (inclusive). There should be **124** of these.",
      "metadata": {}
    },
    {
      "cell_type": "code",
      "source": "age_rows = np.where((housing[:,1] >= 1) & (housing[:,1] <= 3))[0]\nprint(len(age_rows))",
      "metadata": {},
      "outputs": [],
      "execution_count": 36
    },
    {
      "cell_type": "markdown",
      "source": "4. Find the mean of the block group population <span style=\"background-color: #ccfff2\">(Population)</span> for homes whose median value is more than 25000 USD (the target variable). It should be around **1425.68**.",
      "metadata": {}
    },
    {
      "cell_type": "code",
      "source": "values = h.target\nv = np.where(values > 0.25)[0]\nprint(np.mean(housing[v,4]))",
      "metadata": {},
      "outputs": [],
      "execution_count": 37
    },
    {
      "cell_type": "markdown",
      "source": "## Exercise 2 | Working with text data\n\nNext, let's look into some text data. We will be looking into Amazon reviews, and the necessary steps to transform a raw dataset into a format more suitable for prediction tasks.\n\n1. Download the automotive 5-core dataset from [here](https://jmcauley.ucsd.edu/data/amazon_v2/categoryFilesSmall/Automotive_5.json.gz). Next, you can extract the data in <span style=\"background-color: #ccfff2\">JSON</span> format. You can also download one of the bigger ones, if you are feeling ambitious. Open the JSON file. Access the <span style=\"background-color: #ccfff2\">reviewText</span> field, which contains the unstructured review text written by the user.\n\nFor instance, the first review reads as follows: \n\n*'After I wrote the below review, the manufacturer contacted me and explained how to use this.  Instead of the (current) picture on Amazon where the phone is placed vertically, you actually use the stand with the phone placed horizontally. [...]'*",
      "metadata": {}
    },
    {
      "cell_type": "code",
      "source": "import json\nwith open(\"Automotive_5.json\",\"r\") as f:\n    print(json.loads(f.readline())[\"reviewText\"])\n# Exercise description unclear, what does \"Access\" mean? I would assume a print statement means I have accessed it",
      "metadata": {},
      "outputs": [],
      "execution_count": 38
    },
    {
      "cell_type": "markdown",
      "source": "2. Next, let's follow some steps to normalize the text data.\n\nWhen dealing with natural language, it is important to notice that while, for example, the words \"Copper\" and \"copper\" are represented by two different strings, they have the same meaning. When applying statistical methods on this data, it is useful to ensure that words with the same meaning are represented by the same string.\n\n* <span style=\"background-color: #ccfff2\">Downcasing</span>: Let's first downcase the contents of the <span style=\"background-color: #ccfff2\">reviewText</span> field.\n\nNow the first review should be:\n\n*'after i wrote the below review, the manufacturer contacted me and explained how to use this.  instead of the (current) picture on amazon where the phone is placed vertically, you actually use the stand with the phone placed horizontally.'*",
      "metadata": {}
    },
    {
      "cell_type": "code",
      "source": "with open(\"Automotive_5.json\",\"r\") as f:\n    print(json.loads(f.readline())[\"reviewText\"].lower())",
      "metadata": {},
      "outputs": [],
      "execution_count": 39
    },
    {
      "cell_type": "markdown",
      "source": "3. Let's continue with punctuation and stop word removal. Stop words are words like \"and\", \"the\", etc. They are usually very common words that have little to do with the actual content matter. There's plenty openly available lists of stop words for almost any (natural) language.\n\n* <span style=\"background-color: #ccfff2\">Punctuation and stop-word removal</span>: Let's now remove all punctuation, as well as the stop words. You can find a stop word list for English, e.g. [here](https://gist.github.com/xldrkp/4a3b1a33f10d37bedbe0068f2b4482e8#file-stopwords-en-txt).*(use the link to download a txt of english stopwords)* Save the stopwords in the file as \"stopwords-en.txt\".\n\nFirst review at this point reads as: \n\n*'wrote review manufacturer contacted explained current picture amazon phone vertically stand phone horizontally'*",
      "metadata": {}
    },
    {
      "cell_type": "code",
      "source": "punc = [\".\", \",\", \"?\", \"!\", \";\", \":\", \"'\", '\"', \"-\", \"(\", \")\", \"/\"]\nwith open(\"stopwords-en.txt\",\"r\") as s:\n    sw = [line.strip() for line in s]\n\nwith open(\"Automotive_5.json\",\"r\") as f:\n    rev = json.loads(f.readline())[\"reviewText\"].lower()\n    rev = \"\".join(c for c in rev if c not in punc) \n    rev = rev.split(\" \")\n    rev = \" \".join(w for w in rev if w not in sw)\n    print(rev)\n# My stopword list isn't the same as the example's",
      "metadata": {},
      "outputs": [],
      "execution_count": 40
    },
    {
      "cell_type": "markdown",
      "source": "4. Let's continue with stemming. For example, while the words \"swims\" and \"swim\" are different strings, they both refer to swimming. [Stemming](https://en.wikipedia.org/wiki/Stemming) refers to the process of mapping words from their inflected form to their base form, for instance: swims -> swim.\n\n* <span style=\"background-color: #ccfff2\">Stemming</span>: Apply a stemmer on the paragraphs, so that inflected forms are mapped to the base form. For example, for Python the popular natural language toolkit [nltk](http://www.nltk.org/howto/stem.html) has an easy to use stemmer. In case you are using R, you can try the [Snowball stemmer](https://www.rdocumentation.org/packages/corpus/versions/0.10.2/topics/stem_snowball). You can find out how to install nltk from [here](https://www.nltk.org/install.html). It will take a while to run! So, grab a coffee and wait :D\n\nFinally, after stemming: \n\n*'wrote review manufactur contact explain current pictur amazon phone vertic stand phone horizont'*",
      "metadata": {}
    },
    {
      "cell_type": "code",
      "source": "from nltk.stem import PorterStemmer\n\nwith open(\"Automotive_5.json\",\"r\") as f:\n    rev = json.loads(f.readline())[\"reviewText\"].lower()\n    rev = \"\".join(c.strip(\"\\n\") for c in rev if c not in punc) \n    rev = rev.split(\" \")\n    rev = [w for w in rev if w not in sw]\n    ps = PorterStemmer()\n    stem_rev = [ps.stem(w) for w in rev]\n    print(stem_rev)\n# Why run the entire file when you can test the code on one line? Isn't the main objective is creating pos.txt and neg.txt?",
      "metadata": {},
      "outputs": [],
      "execution_count": 41
    },
    {
      "cell_type": "markdown",
      "source": "5. Finally, filter the data by selecting reviews where the field <span style=\"background-color: #ccfff2\">overall</span> is 4 or 5, and store the review texts in a file named <span style=\"background-color: #ccfff2\">pos.txt</span>. Similarly, select reviews with rating 1 or 2 and store them in a file named <span style=\"background-color: #ccfff2\">neg.txt</span>. Ignore the reviews with overall rating 3. Each line in the two files should contain exactly one preprocessed review text without the rating.",
      "metadata": {}
    },
    {
      "cell_type": "code",
      "source": "with open(\"Automotive_5.json\",\"r\") as f, open(\"pos.txt\",\"w\") as pos, open(\"neg.txt\",\"w\") as neg:\n    for l in f:\n        line = json.loads(l)\n        rating = line[\"overall\"]\n        if line.get(\"reviewText\"):\n            rev = line[\"reviewText\"].lower()\n            rev = \"\".join(c.strip(\"\\n\") for c in rev if c not in punc) \n            rev = rev.split(\" \")\n            rev = [w for w in rev if w not in sw]\n            stem_rev = [ps.stem(w) for w in rev]\n            if rating > 3:\n                pos.write(\" \".join(stem_rev))\n                pos.write(\"\\n\")\n            elif rating < 3:\n                neg.write(\" \".join(stem_rev))\n                neg.write(\"\\n\")",
      "metadata": {},
      "outputs": [],
      "execution_count": 42
    },
    {
      "cell_type": "markdown",
      "source": "## Exercise 3 | SQL basics\n\nNext, let's take a refresher on the basics of SQL. In this exercise, you will be working on the simplified Northwind 2000 SQLite database. You can download the database from Kaggle [here](https://courses.mooc.fi/api/v0/files/course/f92ffc32-2dd4-421d-87f3-c48800422cc5/files/VEKX2bxGCDGyojG902gmYZTXCnrAQw.zip).\n\nTo test your SQL queries and complete the exercise, you can download and install SQLite if you don't yet have it installed.\n\nPlease write SQL queries for the tasks on the simplified Northwind 2000 SQLite database.\n\n1. List the first name, last name, and hire date of all employees hired after January 1st, 1994.\n\n2. Count how many orders each customer has placed.\n\n3. Find the names of all customers who have ordered the product \"Chai\".\n\n4. Find all orders that have been placed but not yet shipped.\n\n5. Find the customer who has placed the most orders.",
      "metadata": {}
    },
    {
      "cell_type": "markdown",
      "source": "1. \nSELECT FirstName, LastName FROM Employees WHERE date(HireDate) > '1994-01-01';",
      "metadata": {}
    },
    {
      "cell_type": "markdown",
      "source": "2. \nSELECT Customers.CustomerID, COUNT(Orders.OrderID) FROM Customers\nLEFT JOIN Orders ON Orders.CustomerID = Customers.CustomerID\nGROUP BY Customers.CustomerID;",
      "metadata": {}
    },
    {
      "cell_type": "markdown",
      "source": "3. \nSELECT Customers.ContactName FROM Customers\nJOIN Orders ON Orders.CustomerID = Customers.CustomerID\nJOIN OrderDetails ON OrderDetails.OrderID = Orders.OrderID\nJOIN Products ON Products.ProductID = OrderDetails.ProductID WHERE Products.ProductName = 'Chai';",
      "metadata": {}
    },
    {
      "cell_type": "markdown",
      "source": "4.\nSELECT Orders.OrderID FROM Orders WHERE Orders.ShippedDate IS NULL;",
      "metadata": {}
    },
    {
      "cell_type": "markdown",
      "source": "5. \nSELECT Customers.CustomerID FROM Customers JOIN Orders ON Orders.CustomerID = Customers.CustomerID \nGROUP BY Customers.CustomerID\nORDER BY COUNT(*) DESC\nLIMIT 1;",
      "metadata": {}
    }
  ]
}